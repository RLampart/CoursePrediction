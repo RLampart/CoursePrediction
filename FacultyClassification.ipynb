{
  "cells": [
    {
      "cell_type": "code",
      "execution_count": 1,
      "metadata": {
        "id": "LqHS_JmIA5LQ"
      },
      "outputs": [],
      "source": [
        "import numpy as np\n",
        "import pandas as pd\n",
        "import tensorflow as tf\n",
        "from keras.models import Model\n",
        "from tensorflow import keras"
      ]
    },
    {
      "cell_type": "code",
      "execution_count": 2,
      "metadata": {
        "id": "xSB21s_UIoHE"
      },
      "outputs": [],
      "source": [
        "data = pd.read_csv('FULLUwi.csv')"
      ]
    },
    {
      "cell_type": "code",
      "execution_count": null,
      "metadata": {
        "id": "GcbGbBMyCaZy"
      },
      "outputs": [],
      "source": [
        "data.head()"
      ]
    },
    {
      "cell_type": "code",
      "execution_count": 4,
      "metadata": {
        "colab": {
          "base_uri": "https://localhost:8080/"
        },
        "id": "VbZCbHPtYYUE",
        "outputId": "cf080b40-f5f2-4b14-9f96-50102dbf1fd8"
      },
      "outputs": [
        {
          "output_type": "stream",
          "name": "stdout",
          "text": [
            "They are 14 features in the dataset.\n",
            "----------------\n",
            "feature: Subject || Type: <class 'str'> || Example: ACCT || number of unique values 194\n",
            "feature: CourseCode || Type: <class 'numpy.int64'> || Example: 1005 || number of unique values 1256\n",
            "feature: CourseType || Type: <class 'str'> || Example: E || number of unique values 17\n",
            "feature: CourseType1 || Type: <class 'str'> || Example: E11 || number of unique values 477\n",
            "feature: Semester || Type: <class 'numpy.int64'> || Example: 1 || number of unique values 4\n",
            "feature: Year || Type: <class 'str'> || Example: 2021/2022 || number of unique values 5\n",
            "feature: Faculty || Type: <class 'str'> || Example: FSS || number of unique values 36\n",
            "feature: Level || Type: <class 'str'> || Example: 1 || number of unique values 11\n",
            "feature: Location || Type: <class 'str'> || Example: Mona - Weekend || number of unique values 18\n",
            "feature: Lecturer || Type: <class 'str'> || Example: Paul, Dwayney (Primary)  || number of unique values 4946\n",
            "feature: Students || Type: <class 'numpy.int64'> || Example: 63 || number of unique values 349\n",
            "feature: Seats || Type: <class 'numpy.int64'> || Example: 100 || number of unique values 199\n",
            "feature: Room || Type: <class 'str'> || Example: ONLINE || number of unique values 229\n",
            "feature: Attribute || Type: <class 'float'> || Example: nan || number of unique values 58\n"
          ]
        }
      ],
      "source": [
        "list_features = data.columns\n",
        "print('They are',len(list_features),'features in the dataset.')\n",
        "print('----------------')\n",
        "for f in list_features:\n",
        "    print('feature:', f, '|| Type:', type(data[f][0]), '|| Example:', data[f][0], '|| number of unique values', len(data[f].unique()) )"
      ]
    },
    {
      "cell_type": "code",
      "execution_count": 5,
      "metadata": {
        "colab": {
          "base_uri": "https://localhost:8080/"
        },
        "id": "_zypwOqU6nCI",
        "outputId": "f6d1b693-d589-4d44-e057-e9f3388095be"
      },
      "outputs": [
        {
          "output_type": "execute_result",
          "data": {
            "text/plain": [
              "Subject            0\n",
              "CourseCode         0\n",
              "CourseType         2\n",
              "CourseType1        0\n",
              "Semester           0\n",
              "Year               0\n",
              "Faculty          718\n",
              "Level              0\n",
              "Location           0\n",
              "Lecturer        4247\n",
              "Students           0\n",
              "Seats              0\n",
              "Room             718\n",
              "Attribute      50160\n",
              "dtype: int64"
            ]
          },
          "metadata": {},
          "execution_count": 5
        }
      ],
      "source": [
        "data.isnull().sum()"
      ]
    },
    {
      "cell_type": "code",
      "execution_count": 6,
      "metadata": {
        "colab": {
          "base_uri": "https://localhost:8080/"
        },
        "id": "44P-gnmv6yWS",
        "outputId": "7e8631e6-ca01-4589-e435-5ed48f0915de"
      },
      "outputs": [
        {
          "output_type": "execute_result",
          "data": {
            "text/plain": [
              "array(['FSS', 'None', 'MS', 'FMS', 'FHE', 'FST', 'ST', 'FEN', 'HE',\n",
              "       'TMRI', 'WJC', 'FGS', 'RHQ', 'LAW', 'RM', 'FSP', 'STMT', 'SS',\n",
              "       'SMRT', 'FO', nan, 'UWISN', 'SKILLS', 'MOH', 'SA', 'PSYC', 'ANNEX',\n",
              "       'SD', 'MED', 'COMMRM', 'LS', 'BIOCHEM', 'ANAT', 'CH', 'COMP',\n",
              "       'LECT'], dtype=object)"
            ]
          },
          "metadata": {},
          "execution_count": 6
        }
      ],
      "source": [
        "data['Faculty'].unique()"
      ]
    },
    {
      "cell_type": "code",
      "execution_count": 7,
      "metadata": {
        "id": "4ZtOpDDcm4bs"
      },
      "outputs": [],
      "source": [
        "values = {'CourseType':'None','Faculty':'UN','Lecturer':'UN','Room':'UN','Attribute':'None'}\n",
        "data= data.fillna(value=values)"
      ]
    },
    {
      "cell_type": "code",
      "execution_count": 8,
      "metadata": {
        "id": "sVPbEML9-FNq"
      },
      "outputs": [],
      "source": [
        "column = ['Attribute','Students','Seats']\n",
        "dataframe = data.loc[:,~data.columns.isin(column)].copy()\n",
        "dataframe['Faculty'] = pd.Categorical(data['Faculty']).codes\n",
        "labels = dataframe.pop(\"Faculty\")\n",
        "feature_space = tf.keras.utils.FeatureSpace(\n",
        "    features={\n",
        "        \"Subject\": \"string_categorical\",\n",
        "        \"CourseCode\": \"integer_categorical\",\n",
        "        \"CourseType\": \"string_categorical\",\n",
        "        \"CourseType1\": \"string_categorical\",\n",
        "        \"Semester\": \"integer_categorical\",\n",
        "        \"Year\": \"string_categorical\",\n",
        "        \"Level\": \"string_categorical\",\n",
        "        \"Location\": \"string_categorical\",\n",
        "        \"Lecturer\": \"string_categorical\",\n",
        "        \"Room\": \"string_categorical\",\n",
        "    },\n",
        "    output_mode=\"concat\",\n",
        ")\n",
        "dataset = tf.data.Dataset.from_tensor_slices(dict(dataframe))\n",
        "# Before you start using the FeatureSpace,\n",
        "# you must `adapt()` it on some data.\n",
        "feature_space.adapt(dataset)\n",
        "\n",
        "# You can call the FeatureSpace on a dict of data (batched or unbatched).\n",
        "output_vector = feature_space(dict(dataframe))"
      ]
    },
    {
      "cell_type": "code",
      "execution_count": 9,
      "metadata": {
        "id": "74s1LqITkRfA"
      },
      "outputs": [],
      "source": [
        "X_train = output_vector[:40000]\n",
        "X_test = output_vector[40000:]\n",
        "y_train = labels[:40000]\n",
        "y_test = labels[40000:]"
      ]
    },
    {
      "cell_type": "code",
      "execution_count": 10,
      "metadata": {
        "colab": {
          "base_uri": "https://localhost:8080/"
        },
        "id": "hMlQ6x95CwCJ",
        "outputId": "17b347b2-181f-4108-eb8f-b442cd0a346f"
      },
      "outputs": [
        {
          "output_type": "stream",
          "name": "stdout",
          "text": [
            "Epoch 1/300\n",
            "1250/1250 [==============================] - 29s 22ms/step - loss: 1.1432 - accuracy: 0.6991 - val_loss: 0.6184 - val_accuracy: 0.8725\n",
            "Epoch 2/300\n",
            "1250/1250 [==============================] - 27s 22ms/step - loss: 0.4394 - accuracy: 0.9019 - val_loss: 0.3581 - val_accuracy: 0.9364\n",
            "Epoch 3/300\n",
            "1250/1250 [==============================] - 28s 22ms/step - loss: 0.2319 - accuracy: 0.9543 - val_loss: 0.2659 - val_accuracy: 0.9588\n",
            "Epoch 4/300\n",
            "1250/1250 [==============================] - 28s 22ms/step - loss: 0.1457 - accuracy: 0.9739 - val_loss: 0.2199 - val_accuracy: 0.9647\n",
            "Epoch 5/300\n",
            "1250/1250 [==============================] - 28s 22ms/step - loss: 0.1016 - accuracy: 0.9830 - val_loss: 0.1962 - val_accuracy: 0.9673\n",
            "Epoch 6/300\n",
            "1250/1250 [==============================] - 28s 22ms/step - loss: 0.0757 - accuracy: 0.9890 - val_loss: 0.1812 - val_accuracy: 0.9714\n",
            "Epoch 7/300\n",
            "1250/1250 [==============================] - 28s 22ms/step - loss: 0.0591 - accuracy: 0.9922 - val_loss: 0.1713 - val_accuracy: 0.9751\n",
            "Epoch 8/300\n",
            "1250/1250 [==============================] - 27s 22ms/step - loss: 0.0477 - accuracy: 0.9944 - val_loss: 0.1643 - val_accuracy: 0.9765\n",
            "Epoch 9/300\n",
            "1250/1250 [==============================] - 28s 22ms/step - loss: 0.0398 - accuracy: 0.9956 - val_loss: 0.1580 - val_accuracy: 0.9777\n",
            "Epoch 10/300\n",
            "1250/1250 [==============================] - 28s 23ms/step - loss: 0.0339 - accuracy: 0.9962 - val_loss: 0.1540 - val_accuracy: 0.9794\n",
            "Epoch 11/300\n",
            "1250/1250 [==============================] - 28s 22ms/step - loss: 0.0294 - accuracy: 0.9969 - val_loss: 0.1512 - val_accuracy: 0.9797\n",
            "Epoch 12/300\n",
            "1250/1250 [==============================] - 29s 23ms/step - loss: 0.0259 - accuracy: 0.9972 - val_loss: 0.1487 - val_accuracy: 0.9802\n",
            "Epoch 13/300\n",
            "1250/1250 [==============================] - 27s 21ms/step - loss: 0.0230 - accuracy: 0.9975 - val_loss: 0.1464 - val_accuracy: 0.9804\n",
            "Epoch 14/300\n",
            "1250/1250 [==============================] - 27s 22ms/step - loss: 0.0208 - accuracy: 0.9976 - val_loss: 0.1447 - val_accuracy: 0.9808\n",
            "Epoch 15/300\n",
            "1250/1250 [==============================] - 26s 21ms/step - loss: 0.0189 - accuracy: 0.9977 - val_loss: 0.1426 - val_accuracy: 0.9809\n",
            "Epoch 16/300\n",
            "1250/1250 [==============================] - 28s 22ms/step - loss: 0.0172 - accuracy: 0.9978 - val_loss: 0.1416 - val_accuracy: 0.9810\n",
            "Epoch 17/300\n",
            "1250/1250 [==============================] - 27s 21ms/step - loss: 0.0158 - accuracy: 0.9981 - val_loss: 0.1403 - val_accuracy: 0.9809\n",
            "Epoch 18/300\n",
            "1250/1250 [==============================] - 29s 23ms/step - loss: 0.0147 - accuracy: 0.9980 - val_loss: 0.1391 - val_accuracy: 0.9811\n",
            "Epoch 19/300\n",
            "1250/1250 [==============================] - 27s 22ms/step - loss: 0.0136 - accuracy: 0.9982 - val_loss: 0.1377 - val_accuracy: 0.9811\n",
            "Epoch 20/300\n",
            "1250/1250 [==============================] - 28s 22ms/step - loss: 0.0127 - accuracy: 0.9982 - val_loss: 0.1373 - val_accuracy: 0.9812\n",
            "Epoch 21/300\n",
            "1250/1250 [==============================] - 27s 21ms/step - loss: 0.0119 - accuracy: 0.9983 - val_loss: 0.1362 - val_accuracy: 0.9814\n",
            "Epoch 22/300\n",
            "1250/1250 [==============================] - 27s 22ms/step - loss: 0.0112 - accuracy: 0.9984 - val_loss: 0.1350 - val_accuracy: 0.9813\n",
            "Epoch 23/300\n",
            "1250/1250 [==============================] - 27s 21ms/step - loss: 0.0106 - accuracy: 0.9984 - val_loss: 0.1351 - val_accuracy: 0.9815\n",
            "Epoch 24/300\n",
            "1250/1250 [==============================] - 28s 22ms/step - loss: 0.0100 - accuracy: 0.9985 - val_loss: 0.1346 - val_accuracy: 0.9816\n",
            "Epoch 25/300\n",
            "1250/1250 [==============================] - 26s 21ms/step - loss: 0.0095 - accuracy: 0.9987 - val_loss: 0.1341 - val_accuracy: 0.9815\n",
            "Epoch 26/300\n",
            "1250/1250 [==============================] - 28s 23ms/step - loss: 0.0090 - accuracy: 0.9987 - val_loss: 0.1336 - val_accuracy: 0.9815\n",
            "Epoch 27/300\n",
            "1250/1250 [==============================] - 28s 23ms/step - loss: 0.0086 - accuracy: 0.9988 - val_loss: 0.1329 - val_accuracy: 0.9818\n",
            "Epoch 28/300\n",
            "1250/1250 [==============================] - 27s 22ms/step - loss: 0.0082 - accuracy: 0.9989 - val_loss: 0.1324 - val_accuracy: 0.9819\n",
            "Epoch 29/300\n",
            "1250/1250 [==============================] - 27s 22ms/step - loss: 0.0078 - accuracy: 0.9989 - val_loss: 0.1322 - val_accuracy: 0.9819\n",
            "Epoch 30/300\n",
            "1250/1250 [==============================] - 27s 22ms/step - loss: 0.0075 - accuracy: 0.9990 - val_loss: 0.1317 - val_accuracy: 0.9821\n",
            "Epoch 31/300\n",
            "1250/1250 [==============================] - 28s 22ms/step - loss: 0.0072 - accuracy: 0.9991 - val_loss: 0.1312 - val_accuracy: 0.9823\n",
            "Epoch 32/300\n",
            "1250/1250 [==============================] - 27s 22ms/step - loss: 0.0069 - accuracy: 0.9992 - val_loss: 0.1307 - val_accuracy: 0.9825\n",
            "Epoch 33/300\n",
            "1250/1250 [==============================] - 27s 21ms/step - loss: 0.0066 - accuracy: 0.9992 - val_loss: 0.1306 - val_accuracy: 0.9824\n",
            "Epoch 34/300\n",
            "1250/1250 [==============================] - 28s 23ms/step - loss: 0.0063 - accuracy: 0.9994 - val_loss: 0.1309 - val_accuracy: 0.9824\n",
            "Epoch 35/300\n",
            "1250/1250 [==============================] - 27s 22ms/step - loss: 0.0062 - accuracy: 0.9994 - val_loss: 0.1307 - val_accuracy: 0.9825\n",
            "Epoch 36/300\n",
            "1250/1250 [==============================] - 27s 22ms/step - loss: 0.0060 - accuracy: 0.9994 - val_loss: 0.1304 - val_accuracy: 0.9827\n",
            "Epoch 37/300\n",
            "1250/1250 [==============================] - 28s 22ms/step - loss: 0.0058 - accuracy: 0.9994 - val_loss: 0.1300 - val_accuracy: 0.9829\n",
            "Epoch 38/300\n",
            "1250/1250 [==============================] - 28s 22ms/step - loss: 0.0056 - accuracy: 0.9994 - val_loss: 0.1299 - val_accuracy: 0.9830\n",
            "Epoch 39/300\n",
            "1250/1250 [==============================] - 26s 21ms/step - loss: 0.0054 - accuracy: 0.9995 - val_loss: 0.1297 - val_accuracy: 0.9831\n",
            "Epoch 40/300\n",
            "1250/1250 [==============================] - 26s 21ms/step - loss: 0.0052 - accuracy: 0.9995 - val_loss: 0.1295 - val_accuracy: 0.9831\n",
            "Epoch 41/300\n",
            "1250/1250 [==============================] - 27s 22ms/step - loss: 0.0051 - accuracy: 0.9995 - val_loss: 0.1294 - val_accuracy: 0.9833\n",
            "Epoch 42/300\n",
            "1250/1250 [==============================] - 29s 23ms/step - loss: 0.0049 - accuracy: 0.9995 - val_loss: 0.1295 - val_accuracy: 0.9833\n",
            "Epoch 43/300\n",
            "1250/1250 [==============================] - 27s 21ms/step - loss: 0.0048 - accuracy: 0.9996 - val_loss: 0.1291 - val_accuracy: 0.9833\n",
            "Epoch 44/300\n",
            "1250/1250 [==============================] - 28s 22ms/step - loss: 0.0047 - accuracy: 0.9995 - val_loss: 0.1294 - val_accuracy: 0.9833\n",
            "Epoch 45/300\n",
            "1250/1250 [==============================] - 27s 22ms/step - loss: 0.0045 - accuracy: 0.9996 - val_loss: 0.1290 - val_accuracy: 0.9834\n",
            "Epoch 46/300\n",
            "1250/1250 [==============================] - 29s 23ms/step - loss: 0.0044 - accuracy: 0.9996 - val_loss: 0.1292 - val_accuracy: 0.9835\n",
            "Epoch 47/300\n",
            "1250/1250 [==============================] - 28s 22ms/step - loss: 0.0043 - accuracy: 0.9996 - val_loss: 0.1291 - val_accuracy: 0.9837\n",
            "Epoch 48/300\n",
            "1250/1250 [==============================] - 28s 23ms/step - loss: 0.0042 - accuracy: 0.9996 - val_loss: 0.1289 - val_accuracy: 0.9838\n",
            "Epoch 49/300\n",
            "1250/1250 [==============================] - 28s 22ms/step - loss: 0.0041 - accuracy: 0.9995 - val_loss: 0.1288 - val_accuracy: 0.9839\n",
            "Epoch 50/300\n",
            "1250/1250 [==============================] - 27s 22ms/step - loss: 0.0040 - accuracy: 0.9995 - val_loss: 0.1290 - val_accuracy: 0.9839\n",
            "Epoch 51/300\n",
            "1250/1250 [==============================] - 26s 21ms/step - loss: 0.0039 - accuracy: 0.9996 - val_loss: 0.1286 - val_accuracy: 0.9841\n",
            "Epoch 52/300\n",
            "1250/1250 [==============================] - 27s 21ms/step - loss: 0.0038 - accuracy: 0.9995 - val_loss: 0.1287 - val_accuracy: 0.9840\n",
            "Epoch 53/300\n",
            "1250/1250 [==============================] - 27s 22ms/step - loss: 0.0037 - accuracy: 0.9996 - val_loss: 0.1291 - val_accuracy: 0.9839\n",
            "Epoch 54/300\n",
            "1250/1250 [==============================] - 29s 23ms/step - loss: 0.0036 - accuracy: 0.9997 - val_loss: 0.1286 - val_accuracy: 0.9841\n",
            "Epoch 55/300\n",
            "1250/1250 [==============================] - 27s 22ms/step - loss: 0.0036 - accuracy: 0.9997 - val_loss: 0.1286 - val_accuracy: 0.9840\n",
            "Epoch 56/300\n",
            "1250/1250 [==============================] - 27s 22ms/step - loss: 0.0035 - accuracy: 0.9997 - val_loss: 0.1285 - val_accuracy: 0.9841\n",
            "Epoch 57/300\n",
            "1250/1250 [==============================] - 28s 22ms/step - loss: 0.0034 - accuracy: 0.9997 - val_loss: 0.1284 - val_accuracy: 0.9842\n",
            "Epoch 58/300\n",
            "1250/1250 [==============================] - 28s 22ms/step - loss: 0.0033 - accuracy: 0.9997 - val_loss: 0.1290 - val_accuracy: 0.9840\n",
            "Epoch 59/300\n",
            "1250/1250 [==============================] - 26s 21ms/step - loss: 0.0033 - accuracy: 0.9997 - val_loss: 0.1287 - val_accuracy: 0.9843\n",
            "Epoch 60/300\n",
            "1250/1250 [==============================] - 28s 23ms/step - loss: 0.0032 - accuracy: 0.9997 - val_loss: 0.1286 - val_accuracy: 0.9842\n",
            "Epoch 61/300\n",
            "1250/1250 [==============================] - 27s 21ms/step - loss: 0.0031 - accuracy: 0.9997 - val_loss: 0.1285 - val_accuracy: 0.9843\n",
            "Epoch 62/300\n",
            "1250/1250 [==============================] - 27s 21ms/step - loss: 0.0031 - accuracy: 0.9998 - val_loss: 0.1286 - val_accuracy: 0.9843\n",
            "Epoch 63/300\n",
            "1250/1250 [==============================] - 29s 23ms/step - loss: 0.0030 - accuracy: 0.9998 - val_loss: 0.1283 - val_accuracy: 0.9844\n",
            "Epoch 64/300\n",
            "1250/1250 [==============================] - 28s 22ms/step - loss: 0.0029 - accuracy: 0.9998 - val_loss: 0.1291 - val_accuracy: 0.9841\n",
            "Epoch 65/300\n",
            "1250/1250 [==============================] - 26s 21ms/step - loss: 0.0029 - accuracy: 0.9998 - val_loss: 0.1285 - val_accuracy: 0.9843\n",
            "Epoch 66/300\n",
            "1250/1250 [==============================] - 27s 22ms/step - loss: 0.0028 - accuracy: 0.9998 - val_loss: 0.1289 - val_accuracy: 0.9842\n",
            "Epoch 67/300\n",
            "1250/1250 [==============================] - 27s 22ms/step - loss: 0.0028 - accuracy: 0.9998 - val_loss: 0.1286 - val_accuracy: 0.9843\n",
            "Epoch 68/300\n",
            "1250/1250 [==============================] - 27s 22ms/step - loss: 0.0027 - accuracy: 0.9998 - val_loss: 0.1285 - val_accuracy: 0.9844\n",
            "Epoch 69/300\n",
            "1250/1250 [==============================] - 28s 23ms/step - loss: 0.0027 - accuracy: 0.9997 - val_loss: 0.1289 - val_accuracy: 0.9843\n",
            "Epoch 70/300\n",
            "1250/1250 [==============================] - 29s 23ms/step - loss: 0.0026 - accuracy: 0.9998 - val_loss: 0.1284 - val_accuracy: 0.9844\n",
            "Epoch 71/300\n",
            "1250/1250 [==============================] - 32s 26ms/step - loss: 0.0026 - accuracy: 0.9998 - val_loss: 0.1288 - val_accuracy: 0.9843\n",
            "Epoch 72/300\n",
            "1250/1250 [==============================] - 27s 21ms/step - loss: 0.0026 - accuracy: 0.9998 - val_loss: 0.1286 - val_accuracy: 0.9844\n",
            "Epoch 73/300\n",
            "1250/1250 [==============================] - 27s 22ms/step - loss: 0.0025 - accuracy: 0.9998 - val_loss: 0.1290 - val_accuracy: 0.9843\n"
          ]
        }
      ],
      "source": [
        "tf.random.set_seed(42)\n",
        "model = keras.models.Sequential([\n",
        " keras.layers.Dense(300, kernel_initializer = 'lecun_normal', activation=\"selu\",  input_shape=X_train.shape[1:]),\n",
        " keras.layers.Dense(100, kernel_initializer = 'lecun_normal', activation=\"selu\"),\n",
        " keras.layers.Dense(36, activation=\"softmax\")\n",
        "])\n",
        "early_stopping_cb = keras.callbacks.EarlyStopping(patience=10,\n",
        " restore_best_weights=True)\n",
        "model_checkpoint_cb = keras.callbacks.ModelCheckpoint(\"my_model.h5\", save_best_only=True)\n",
        "opt = keras.optimizers.Nadam(learning_rate=0.01)\n",
        "model.compile(loss=\"sparse_categorical_crossentropy\", optimizer = 'sgd', metrics=['accuracy'])\n",
        "history = model.fit(X_train, y_train, epochs=300,\n",
        " validation_data=(X_test, y_test), callbacks=[early_stopping_cb,model_checkpoint_cb])"
      ]
    },
    {
      "cell_type": "code",
      "execution_count": 11,
      "metadata": {
        "colab": {
          "base_uri": "https://localhost:8080/"
        },
        "id": "CxaAp0TaHG6H",
        "outputId": "cc839885-ff51-46bd-ed54-8950a58fd714"
      },
      "outputs": [
        {
          "output_type": "stream",
          "name": "stdout",
          "text": [
            "1884/1884 [==============================] - 15s 8ms/step\n"
          ]
        }
      ],
      "source": [
        "prediction = np.argmax(model.predict(output_vector), axis = 1)"
      ]
    },
    {
      "cell_type": "code",
      "execution_count": 12,
      "metadata": {
        "id": "IudcbTeaLqGn"
      },
      "outputs": [],
      "source": [
        "data['PreFaculty'] = prediction\n",
        "data['PreFaculty'] = data.apply(lambda x: pd.Categorical(data['Faculty']).categories[x.PreFaculty],axis=1)\n",
        "data.to_csv('FTest.csv',index=False)"
      ]
    }
  ],
  "metadata": {
    "colab": {
      "provenance": [],
      "authorship_tag": "ABX9TyOqUqPoJdHTQb/PRPeaGGIw"
    },
    "kernelspec": {
      "display_name": "Python 3",
      "name": "python3"
    },
    "language_info": {
      "name": "python"
    }
  },
  "nbformat": 4,
  "nbformat_minor": 0
}