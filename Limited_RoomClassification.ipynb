{
  "cells": [
    {
      "cell_type": "code",
      "execution_count": null,
      "metadata": {
        "id": "LqHS_JmIA5LQ"
      },
      "outputs": [],
      "source": [
        "import numpy as np\n",
        "import pandas as pd\n",
        "import tensorflow as tf\n",
        "from keras.layers import Input, Dense, Concatenate\n",
        "from keras.models import Model\n",
        "from tensorflow import keras"
      ]
    },
    {
      "cell_type": "code",
      "execution_count": null,
      "metadata": {
        "id": "xSB21s_UIoHE"
      },
      "outputs": [],
      "source": [
        "data = pd.read_csv('FULLUwi.csv')"
      ]
    },
    {
      "cell_type": "code",
      "execution_count": null,
      "metadata": {
        "id": "GcbGbBMyCaZy"
      },
      "outputs": [],
      "source": [
        "data.head()"
      ]
    },
    {
      "cell_type": "code",
      "execution_count": null,
      "metadata": {
        "colab": {
          "base_uri": "https://localhost:8080/"
        },
        "id": "VbZCbHPtYYUE",
        "outputId": "f39da7ff-d40d-4499-d562-2309a3052f4f"
      },
      "outputs": [
        {
          "output_type": "stream",
          "name": "stdout",
          "text": [
            "They are 14 features in the dataset.\n",
            "----------------\n",
            "feature: Subject || Type: <class 'str'> || Example: ACCT || number of unique values 194\n",
            "feature: CourseCode || Type: <class 'numpy.int64'> || Example: 1005 || number of unique values 1256\n",
            "feature: CourseType || Type: <class 'str'> || Example: E || number of unique values 17\n",
            "feature: CourseType1 || Type: <class 'str'> || Example: E11 || number of unique values 477\n",
            "feature: Semester || Type: <class 'numpy.int64'> || Example: 1 || number of unique values 4\n",
            "feature: Year || Type: <class 'str'> || Example: 2021/2022 || number of unique values 5\n",
            "feature: Faculty || Type: <class 'str'> || Example: FSS || number of unique values 36\n",
            "feature: Level || Type: <class 'str'> || Example: 1 || number of unique values 11\n",
            "feature: Location || Type: <class 'str'> || Example: Mona - Weekend || number of unique values 18\n",
            "feature: Lecturer || Type: <class 'str'> || Example: Paul, Dwayney (Primary)  || number of unique values 4946\n",
            "feature: Students || Type: <class 'numpy.int64'> || Example: 63 || number of unique values 349\n",
            "feature: Seats || Type: <class 'numpy.int64'> || Example: 100 || number of unique values 199\n",
            "feature: Room || Type: <class 'str'> || Example: ONLINE || number of unique values 229\n",
            "feature: Attribute || Type: <class 'float'> || Example: nan || number of unique values 58\n"
          ]
        }
      ],
      "source": [
        "list_features = data.columns\n",
        "print('They are',len(list_features),'features in the dataset.')\n",
        "print('----------------')\n",
        "for f in list_features:\n",
        "    print('feature:', f, '|| Type:', type(data[f][0]), '|| Example:', data[f][0], '|| number of unique values', len(data[f].unique()) )"
      ]
    },
    {
      "cell_type": "code",
      "execution_count": null,
      "metadata": {
        "colab": {
          "base_uri": "https://localhost:8080/"
        },
        "id": "_zypwOqU6nCI",
        "outputId": "962205f9-09a8-492d-a82f-6f7a74ec04cc"
      },
      "outputs": [
        {
          "output_type": "execute_result",
          "data": {
            "text/plain": [
              "Subject            0\n",
              "CourseCode         0\n",
              "CourseType         2\n",
              "CourseType1        0\n",
              "Semester           0\n",
              "Year               0\n",
              "Faculty          718\n",
              "Level              0\n",
              "Location           0\n",
              "Lecturer        4247\n",
              "Students           0\n",
              "Seats              0\n",
              "Room             718\n",
              "Attribute      50160\n",
              "dtype: int64"
            ]
          },
          "metadata": {},
          "execution_count": 5
        }
      ],
      "source": [
        "data.isnull().sum()"
      ]
    },
    {
      "cell_type": "code",
      "execution_count": null,
      "metadata": {
        "id": "44P-gnmv6yWS"
      },
      "outputs": [],
      "source": [
        "data['Room'].unique()"
      ]
    },
    {
      "cell_type": "code",
      "execution_count": null,
      "metadata": {
        "id": "4ZtOpDDcm4bs"
      },
      "outputs": [],
      "source": [
        "values = {'CourseType':'None','Faculty':'UN','Lecturer':'UN','Room':'UN','Attribute':'None'}\n",
        "data= data.fillna(value=values)"
      ]
    },
    {
      "cell_type": "code",
      "execution_count": null,
      "metadata": {
        "id": "sVPbEML9-FNq"
      },
      "outputs": [],
      "source": [
        "column = ['Attribute']\n",
        "dataframe = data.loc[:,~data.columns.isin(column)].copy()\n",
        "dataframe['Room'] = dataframe.apply(lambda x: x.Room=='ONLINE',axis =1)\n",
        "labels = dataframe.pop(\"Room\")\n",
        "feature_space = tf.keras.utils.FeatureSpace(\n",
        "    features={\n",
        "        \"Subject\": \"string_categorical\",\n",
        "        \"CourseCode\": \"integer_categorical\",\n",
        "        \"CourseType\": \"string_categorical\",\n",
        "        \"CourseType1\": \"string_categorical\",\n",
        "        \"Semester\": \"integer_categorical\",\n",
        "        \"Year\": \"string_categorical\",\n",
        "        \"Level\": \"string_categorical\",\n",
        "        \"Location\": \"string_categorical\",\n",
        "        \"Lecturer\": \"string_categorical\",\n",
        "        \"Faculty\": \"string_categorical\",\n",
        "        \"Students\": \"float_normalized\",\n",
        "        \"Seats\": \"float_normalized\"\n",
        "    },\n",
        "    output_mode=\"concat\",\n",
        ")\n",
        "dataset = tf.data.Dataset.from_tensor_slices(dict(dataframe))\n",
        "# Before you start using the FeatureSpace,\n",
        "# you must `adapt()` it on some data.\n",
        "feature_space.adapt(dataset)\n",
        "\n",
        "# You can call the FeatureSpace on a dict of data (batched or unbatched).\n",
        "output_vector = feature_space(dict(dataframe))"
      ]
    },
    {
      "cell_type": "code",
      "execution_count": null,
      "metadata": {
        "id": "74s1LqITkRfA"
      },
      "outputs": [],
      "source": [
        "X_train = output_vector[:40000]\n",
        "X_test = output_vector[40000:]\n",
        "y_train = labels[:40000]\n",
        "y_test = labels[40000:]"
      ]
    },
    {
      "cell_type": "code",
      "execution_count": null,
      "metadata": {
        "colab": {
          "base_uri": "https://localhost:8080/"
        },
        "id": "hMlQ6x95CwCJ",
        "outputId": "62e95da7-8c0f-4659-9611-602fd9143b99"
      },
      "outputs": [
        {
          "output_type": "stream",
          "name": "stdout",
          "text": [
            "Epoch 1/300\n",
            "1250/1250 [==============================] - 21s 16ms/step - loss: 0.3729 - accuracy: 0.8829 - val_loss: 0.1649 - val_accuracy: 0.9805\n",
            "Epoch 2/300\n",
            "1250/1250 [==============================] - 17s 13ms/step - loss: 0.1378 - accuracy: 0.9680 - val_loss: 0.0873 - val_accuracy: 0.9825\n",
            "Epoch 3/300\n",
            "1250/1250 [==============================] - 17s 13ms/step - loss: 0.0987 - accuracy: 0.9744 - val_loss: 0.0646 - val_accuracy: 0.9838\n",
            "Epoch 4/300\n",
            "1250/1250 [==============================] - 17s 14ms/step - loss: 0.0838 - accuracy: 0.9778 - val_loss: 0.0533 - val_accuracy: 0.9849\n",
            "Epoch 5/300\n",
            "1250/1250 [==============================] - 17s 13ms/step - loss: 0.0754 - accuracy: 0.9800 - val_loss: 0.0463 - val_accuracy: 0.9867\n",
            "Epoch 6/300\n",
            "1250/1250 [==============================] - 16s 13ms/step - loss: 0.0700 - accuracy: 0.9808 - val_loss: 0.0466 - val_accuracy: 0.9853\n",
            "Epoch 7/300\n",
            "1250/1250 [==============================] - 17s 13ms/step - loss: 0.0658 - accuracy: 0.9815 - val_loss: 0.0408 - val_accuracy: 0.9873\n",
            "Epoch 8/300\n",
            "1250/1250 [==============================] - 19s 15ms/step - loss: 0.0623 - accuracy: 0.9828 - val_loss: 0.0418 - val_accuracy: 0.9864\n",
            "Epoch 9/300\n",
            "1250/1250 [==============================] - 18s 15ms/step - loss: 0.0596 - accuracy: 0.9836 - val_loss: 0.0365 - val_accuracy: 0.9879\n",
            "Epoch 10/300\n",
            "1250/1250 [==============================] - 17s 13ms/step - loss: 0.0571 - accuracy: 0.9841 - val_loss: 0.0330 - val_accuracy: 0.9883\n",
            "Epoch 11/300\n",
            "1250/1250 [==============================] - 18s 15ms/step - loss: 0.0550 - accuracy: 0.9847 - val_loss: 0.0346 - val_accuracy: 0.9881\n",
            "Epoch 12/300\n",
            "1250/1250 [==============================] - 20s 16ms/step - loss: 0.0532 - accuracy: 0.9851 - val_loss: 0.0348 - val_accuracy: 0.9877\n",
            "Epoch 13/300\n",
            "1250/1250 [==============================] - 17s 13ms/step - loss: 0.0515 - accuracy: 0.9853 - val_loss: 0.0327 - val_accuracy: 0.9879\n",
            "Epoch 14/300\n",
            "1250/1250 [==============================] - 17s 13ms/step - loss: 0.0501 - accuracy: 0.9855 - val_loss: 0.0304 - val_accuracy: 0.9883\n",
            "Epoch 15/300\n",
            "1250/1250 [==============================] - 19s 15ms/step - loss: 0.0487 - accuracy: 0.9858 - val_loss: 0.0311 - val_accuracy: 0.9885\n",
            "Epoch 16/300\n",
            "1250/1250 [==============================] - 17s 14ms/step - loss: 0.0474 - accuracy: 0.9859 - val_loss: 0.0317 - val_accuracy: 0.9880\n",
            "Epoch 17/300\n",
            "1250/1250 [==============================] - 19s 15ms/step - loss: 0.0463 - accuracy: 0.9862 - val_loss: 0.0310 - val_accuracy: 0.9883\n",
            "Epoch 18/300\n",
            "1250/1250 [==============================] - 16s 13ms/step - loss: 0.0452 - accuracy: 0.9863 - val_loss: 0.0303 - val_accuracy: 0.9884\n",
            "Epoch 19/300\n",
            "1250/1250 [==============================] - 19s 15ms/step - loss: 0.0442 - accuracy: 0.9864 - val_loss: 0.0306 - val_accuracy: 0.9881\n",
            "Epoch 20/300\n",
            "1250/1250 [==============================] - 21s 17ms/step - loss: 0.0433 - accuracy: 0.9868 - val_loss: 0.0310 - val_accuracy: 0.9882\n",
            "Epoch 21/300\n",
            "1250/1250 [==============================] - 22s 17ms/step - loss: 0.0424 - accuracy: 0.9868 - val_loss: 0.0301 - val_accuracy: 0.9884\n",
            "Epoch 22/300\n",
            "1250/1250 [==============================] - 19s 15ms/step - loss: 0.0417 - accuracy: 0.9873 - val_loss: 0.0298 - val_accuracy: 0.9883\n",
            "Epoch 23/300\n",
            "1250/1250 [==============================] - 17s 13ms/step - loss: 0.0409 - accuracy: 0.9874 - val_loss: 0.0300 - val_accuracy: 0.9882\n",
            "Epoch 24/300\n",
            "1250/1250 [==============================] - 19s 15ms/step - loss: 0.0402 - accuracy: 0.9873 - val_loss: 0.0293 - val_accuracy: 0.9881\n",
            "Epoch 25/300\n",
            "1250/1250 [==============================] - 19s 15ms/step - loss: 0.0396 - accuracy: 0.9876 - val_loss: 0.0278 - val_accuracy: 0.9882\n",
            "Epoch 26/300\n",
            "1250/1250 [==============================] - 17s 14ms/step - loss: 0.0389 - accuracy: 0.9878 - val_loss: 0.0290 - val_accuracy: 0.9883\n",
            "Epoch 27/300\n",
            "1250/1250 [==============================] - 19s 15ms/step - loss: 0.0383 - accuracy: 0.9879 - val_loss: 0.0303 - val_accuracy: 0.9883\n",
            "Epoch 28/300\n",
            "1250/1250 [==============================] - 17s 13ms/step - loss: 0.0377 - accuracy: 0.9880 - val_loss: 0.0292 - val_accuracy: 0.9883\n",
            "Epoch 29/300\n",
            "1250/1250 [==============================] - 19s 15ms/step - loss: 0.0371 - accuracy: 0.9881 - val_loss: 0.0293 - val_accuracy: 0.9884\n",
            "Epoch 30/300\n",
            "1250/1250 [==============================] - 16s 13ms/step - loss: 0.0366 - accuracy: 0.9884 - val_loss: 0.0297 - val_accuracy: 0.9882\n",
            "Epoch 31/300\n",
            "1250/1250 [==============================] - 19s 15ms/step - loss: 0.0361 - accuracy: 0.9885 - val_loss: 0.0278 - val_accuracy: 0.9884\n",
            "Epoch 32/300\n",
            "1250/1250 [==============================] - 19s 15ms/step - loss: 0.0356 - accuracy: 0.9888 - val_loss: 0.0292 - val_accuracy: 0.9882\n",
            "Epoch 33/300\n",
            "1250/1250 [==============================] - 17s 13ms/step - loss: 0.0351 - accuracy: 0.9889 - val_loss: 0.0298 - val_accuracy: 0.9880\n",
            "Epoch 34/300\n",
            "1250/1250 [==============================] - 19s 15ms/step - loss: 0.0347 - accuracy: 0.9890 - val_loss: 0.0279 - val_accuracy: 0.9884\n",
            "Epoch 35/300\n",
            "1250/1250 [==============================] - 19s 15ms/step - loss: 0.0342 - accuracy: 0.9894 - val_loss: 0.0285 - val_accuracy: 0.9884\n"
          ]
        }
      ],
      "source": [
        "tf.random.set_seed(42)\n",
        "model = keras.models.Sequential([\n",
        " keras.layers.Dense(150, activation=\"relu\",  input_shape=X_train.shape[1:]),\n",
        " keras.layers.Dense(1, activation=\"sigmoid\")\n",
        "])\n",
        "early_stopping_cb = keras.callbacks.EarlyStopping(patience=10,\n",
        " restore_best_weights=True)\n",
        "model_checkpoint_cb = keras.callbacks.ModelCheckpoint(\"my_model.h5\", save_best_only=True)\n",
        "opt = keras.optimizers.Nadam(learning_rate=0.01)\n",
        "model.compile(loss=\"binary_crossentropy\", optimizer = 'sgd', metrics=['accuracy'])\n",
        "history = model.fit(X_train, y_train, epochs=300,\n",
        " validation_data=(X_test, y_test), callbacks=[early_stopping_cb,model_checkpoint_cb])"
      ]
    },
    {
      "cell_type": "code",
      "execution_count": null,
      "metadata": {
        "colab": {
          "base_uri": "https://localhost:8080/"
        },
        "id": "CxaAp0TaHG6H",
        "outputId": "17e5f21f-cb8f-4b12-8ca3-92afdc00936e"
      },
      "outputs": [
        {
          "output_type": "stream",
          "name": "stdout",
          "text": [
            "1884/1884 [==============================] - 26s 14ms/step\n"
          ]
        }
      ],
      "source": [
        "prediction = model.predict(output_vector)\n",
        "predictions = (predictions > 0.5).astype(int)"
      ]
    },
    {
      "cell_type": "code",
      "execution_count": null,
      "metadata": {
        "id": "IudcbTeaLqGn"
      },
      "outputs": [],
      "source": [
        "data['PreRoom'] = prediction\n",
        "data['PreRoom'] = data.apply(lambda x: pd.Categorical(data['Room']).categories[x.PreRoom],axis=1)\n",
        "data.to_csv('PTest.csv',index=False)"
      ]
    }
  ],
  "metadata": {
    "colab": {
      "provenance": [],
      "authorship_tag": "ABX9TyN1jIYwpteYXeIDQXVF9UBd"
    },
    "kernelspec": {
      "display_name": "Python 3",
      "name": "python3"
    },
    "language_info": {
      "name": "python"
    }
  },
  "nbformat": 4,
  "nbformat_minor": 0
}