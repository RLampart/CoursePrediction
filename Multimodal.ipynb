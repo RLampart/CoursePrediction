{
  "nbformat": 4,
  "nbformat_minor": 0,
  "metadata": {
    "colab": {
      "provenance": [],
      "authorship_tag": "ABX9TyNcD3eXF1CLAGbvuEDRHa4k"
    },
    "kernelspec": {
      "name": "python3",
      "display_name": "Python 3"
    },
    "language_info": {
      "name": "python"
    }
  },
  "cells": [
    {
      "cell_type": "code",
      "execution_count": null,
      "metadata": {
        "id": "nNc8AUXC4FD1"
      },
      "outputs": [],
      "source": [
        "import numpy as np\n",
        "import pandas as pd\n",
        "import tensorflow as tf\n",
        "from keras.models import Model\n",
        "from tensorflow import keras"
      ]
    },
    {
      "cell_type": "code",
      "source": [
        "odata = pd.read_csv(\"FULLUWI.csv\")\n",
        "data = odata.copy()\n",
        "SR = keras.models.load_model(\"stu_regmodel.h5\")\n",
        "FC = keras.models.load_model(\"fac_model.h5\")\n",
        "RC = keras.models.load_model(\"room_model.h5\")\n",
        "LRC = keras.models.load_model(\"lim_roommodel.h5\")\n",
        "LC = keras.models.load_model(\"lec_model.h5\")"
      ],
      "metadata": {
        "id": "4_Sfz_Mn4HVr"
      },
      "execution_count": null,
      "outputs": []
    },
    {
      "cell_type": "code",
      "source": [
        "#input\n",
        "entry ={\n",
        "     \"Subject\" : ['ACCT','COMP'],\n",
        "     \"CourseCode\":[1005,1012],\n",
        "     \"CourseType\": ['M','M'],\n",
        "     \"CourseType1\": ['M11','M11'],\n",
        "     \"Semester\": [1,1],\n",
        "     \"Year\": ['2022/2023','2022/2023'],\n",
        "     \"Level\": ['1','1'],\n",
        "     \"Faculty\": ['FSS','FST'],\n",
        "     \"Location\": ['Mona','Mona'],\n",
        "     \"Lecturer\": ['Thomas-Stone, Joan', 'Beckford, Carl'],\n",
        "     \"Lecturer2\": ['No','No'],\n",
        "     \"Room\": ['ONLINE','ONLINE'],\n",
        "     \"Students\": [0,150],\n",
        "     \"Seats\": [160,160]\n",
        "}"
      ],
      "metadata": {
        "id": "U2bfdvhN2pM4"
      },
      "execution_count": null,
      "outputs": []
    },
    {
      "cell_type": "code",
      "source": [
        "connect = {\"S\":SR,\n",
        "           \"F\":FC,\n",
        "           \"R\":RC,\n",
        "           \"LR\":LRC,\n",
        "           \"L\":LC}"
      ],
      "metadata": {
        "id": "CXnG9RZLLsZm"
      },
      "execution_count": null,
      "outputs": []
    },
    {
      "cell_type": "code",
      "source": [
        "features={\n",
        "        \"Subject\": \"string_categorical\",\n",
        "        \"CourseCode\": \"integer_categorical\",\n",
        "        \"CourseType\": \"string_categorical\",\n",
        "        \"CourseType1\": \"string_categorical\",\n",
        "        \"Semester\": \"integer_categorical\",\n",
        "        \"Year\": \"string_categorical\",\n",
        "        \"Faculty\": \"string_categorical\",\n",
        "        \"Level\": \"string_categorical\",\n",
        "        \"Location\": \"string_categorical\",\n",
        "        \"Lecturer\": \"string_categorical\",\n",
        "        \"Lecturer2\": \"string_categorical\",\n",
        "        \"Room\": \"string_categorical\",\n",
        "        \"Students\": \"float_normalized\",\n",
        "        \"Seats\": \"float_normalized\"\n",
        "    }\n",
        "\n",
        "def extraLec(name):\n",
        "  if len(name.split())>3:\n",
        "    return 'Yes'\n",
        "  else:\n",
        "    return 'No'"
      ],
      "metadata": {
        "id": "6PDQBCHhIZ3_"
      },
      "execution_count": null,
      "outputs": []
    },
    {
      "cell_type": "code",
      "source": [
        "attr = \"S\"\n",
        "cat = True\n",
        "lim = False\n",
        "match attr:\n",
        "  case \"S\":\n",
        "    target = \"Students\"\n",
        "    cat = False\n",
        "    column = ['Attribute']\n",
        "    data['Lecturer2'] = odata.apply(lambda x: extraLec(x.Lecturer), axis = 1)\n",
        "    data['Lecturer']  = odata.apply(lambda x: ' '.join(x.Lecturer.split(' (Primary)')[0].split()[-2:]), axis=1)\n",
        "    features.pop(target)\n",
        "  case \"F\":\n",
        "    target = \"Faculty\"\n",
        "    column = ['Attribute','Students','Seats']\n",
        "    features.pop('Students')\n",
        "    features.pop('Seats')\n",
        "    features.pop('Lecturer2')\n",
        "    features.pop(target)\n",
        "  case \"R\":\n",
        "    target = \"Room\"\n",
        "    column = ['Attribute']\n",
        "    data['Lecturer2'] = odata.apply(lambda x: extraLec(x.Lecturer), axis = 1)\n",
        "    data['Lecturer']  = odata.apply(lambda x: ' '.join(x.Lecturer.split(' (Primary)')[0].split()[-2:]), axis=1)\n",
        "    features.pop(target)\n",
        "  case \"LR\":\n",
        "    target = \"Room\"\n",
        "    cat = False\n",
        "    lim = True\n",
        "    column = ['Attribute']\n",
        "    data['Room'] = odata.apply(lambda x: x.Room=='ONLINE',axis =1)\n",
        "    features.pop(target)\n",
        "    features.pop('Lecturer2')\n",
        "  case \"L\":\n",
        "    target = \"Lecturer\"\n",
        "    column = ['Attribute']\n",
        "    data['Lecturer']  = odata.apply(lambda x: ' '.join(x.Lecturer.split(' (Primary)')[0].split()[-2:]), axis=1)\n",
        "    features.pop(target)\n",
        "    features.pop('Lecturer2')"
      ],
      "metadata": {
        "id": "HjrP1DjzFJXn"
      },
      "execution_count": null,
      "outputs": []
    },
    {
      "cell_type": "code",
      "source": [
        "if not cat:\n",
        " dataframe = data.loc[:,~data.columns.isin(column)].copy()\n",
        " labels = dataframe.pop(target)\n",
        " feature_space = tf.keras.utils.FeatureSpace(\n",
        "    features = features,\n",
        "    output_mode=\"concat\",\n",
        " )\n",
        " dataset = tf.data.Dataset.from_tensor_slices(dict(dataframe))\n",
        "\n",
        " feature_space.adapt(dataset)\n",
        "\n",
        " output_vector = feature_space(dict(dataframe))\n",
        "else:\n",
        "  dataframe = data.loc[:,~data.columns.isin(column)].copy()\n",
        "  dataframe[target] = pd.Categorical(data[target]).codes\n",
        "  labels = dataframe.pop(target)\n",
        "  feature_space = tf.keras.utils.FeatureSpace(\n",
        "    features=features,\n",
        "    output_mode=\"concat\",\n",
        "  )\n",
        "  dataset = tf.data.Dataset.from_tensor_slices(dict(dataframe))\n",
        "\n",
        "  feature_space.adapt(dataset)\n",
        "\n",
        "  output_vector = feature_space(dict(dataframe))"
      ],
      "metadata": {
        "id": "KAiF7CXWx8HF"
      },
      "execution_count": null,
      "outputs": []
    },
    {
      "cell_type": "code",
      "source": [
        "#predict\n",
        "if lim:\n",
        "   print((connect[attr].predict(feature_space(entry)) > 0.5).astype(int))\n",
        "elif cat:\n",
        "   print(np.argmax(connect[attr].predict(feature_space(entry)),axis=1))\n",
        "else:\n",
        "   print(connect[attr].predict(feature_space(entry)))"
      ],
      "metadata": {
        "id": "3tGALulU4XHB"
      },
      "execution_count": null,
      "outputs": []
    },
    {
      "cell_type": "code",
      "source": [],
      "metadata": {
        "id": "hJo8GHwj4YzH"
      },
      "execution_count": null,
      "outputs": []
    }
  ]
}